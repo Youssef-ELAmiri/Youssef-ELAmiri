{
 "cells": [
  {
   "cell_type": "markdown",
   "id": "b2987454",
   "metadata": {},
   "source": [
    "Code Cells realisées par BAHASSOU Imane(N°2):\n",
    "    [1],[2],[3]\n",
    "Code Cells realisées par BOUTALLOUST Mohammed Amine(N°6):\n",
    "    [4],[5],[6]"
   ]
  },
  {
   "cell_type": "code",
   "execution_count": 1,
   "id": "35784738",
   "metadata": {},
   "outputs": [],
   "source": [
    "from typing import Dict, List, Tuple, Optional"
   ]
  },
  {
   "cell_type": "code",
   "execution_count": 2,
   "id": "ad46b18a",
   "metadata": {},
   "outputs": [],
   "source": [
    "# Task information: task_id -> (duration, [predecessors], description)\n",
    "tasks = {\n",
    "    \"T1\": (30, [], \"Chassis Assembly\"),\n",
    "    \"T2\": (40, [\"T1\"], \"Engine Installation\"),\n",
    "    \"T3\": (60, [\"T1\"], \"Painting\"),\n",
    "    \"T4\": (50, [\"T2\"], \"Electrical Wiring\"),\n",
    "    \"T5\": (45, [\"T3\"], \"Interior Installation\"),\n",
    "    \"T6\": (30, [\"T4\", \"T5\"], \"Quality Control\"),\n",
    "}\n",
    "\n",
    "MAX_PARALLEL_TASKS = 2\n",
    "\n",
    "# A schedule maps task_id -> (start_time, end_time)\n",
    "Schedule = Dict[str, Tuple[int, int]]"
   ]
  },
  {
   "cell_type": "code",
   "execution_count": 3,
   "id": "f794d1b7",
   "metadata": {},
   "outputs": [],
   "source": [
    "def is_consistent(task: str, start_time: int, assignment: Schedule) -> bool:\n",
    "    duration = tasks[task][0]\n",
    "    end_time = start_time + duration\n",
    "\n",
    "    # Worker/resource constraint\n",
    "    overlapping = 0\n",
    "    for _, (s, e) in assignment.items():\n",
    "        if start_time < e and end_time > s:\n",
    "            overlapping += 1\n",
    "        if overlapping >= MAX_PARALLEL_TASKS:\n",
    "            return False\n",
    "\n",
    "    # Precedence constraint\n",
    "    for pred in tasks[task][1]:\n",
    "        if pred not in assignment:\n",
    "            return False\n",
    "        if start_time < assignment[pred][1]:\n",
    "            return False\n",
    "\n",
    "    return True"
   ]
  },
  {
   "cell_type": "code",
   "execution_count": 4,
   "id": "b120a823",
   "metadata": {},
   "outputs": [],
   "source": [
    "def select_unassigned_variable(assignment: Schedule) -> Optional[str]:\n",
    "    for task in tasks:\n",
    "        if task not in assignment:\n",
    "            return task\n",
    "    return None\n",
    "\n",
    "def order_domain_values(task: str, assignment: Schedule) -> List[int]:\n",
    "    # Try starting every 5 minutes up to 8 hours\n",
    "    return list(range(0, 8 * 60, 5))\n",
    "\n",
    "def inference(task: str, time: int, assignment: Schedule) -> Optional[Dict[str, Tuple[int, int]]]:\n",
    "    # No inference in this basic implementation\n",
    "    return {}"
   ]
  },
  {
   "cell_type": "code",
   "execution_count": 5,
   "id": "370b027d",
   "metadata": {},
   "outputs": [],
   "source": [
    "def backtrack(assignment: Schedule) -> Optional[Schedule]:\n",
    "    if len(assignment) == len(tasks):\n",
    "        return assignment\n",
    "\n",
    "    var = select_unassigned_variable(assignment)\n",
    "    if var is None:\n",
    "        return None\n",
    "\n",
    "    for value in order_domain_values(var, assignment):\n",
    "        if is_consistent(var, value, assignment):\n",
    "            assignment[var] = (value, value + tasks[var][0])\n",
    "            inferences = inference(var, value, assignment)\n",
    "\n",
    "            if inferences is not None:\n",
    "                # Merge inferences\n",
    "                assignment.update(inferences)\n",
    "                result = backtrack(assignment)\n",
    "                if result:\n",
    "                    return result\n",
    "                # Remove inferences\n",
    "                for inferred in inferences:\n",
    "                    assignment.pop(inferred)\n",
    "            assignment.pop(var)\n",
    "\n",
    "    return None\n",
    "\n",
    "def backtracking_search() -> Optional[Schedule]:\n",
    "    return backtrack({})\n"
   ]
  },
  {
   "cell_type": "code",
   "execution_count": 6,
   "id": "0439f294",
   "metadata": {},
   "outputs": [
    {
     "name": "stdout",
     "output_type": "stream",
     "text": [
      "T1 (Chassis Assembly): 0 -> 30 minutes\n",
      "T2 (Engine Installation): 30 -> 70 minutes\n",
      "T3 (Painting): 30 -> 90 minutes\n",
      "T4 (Electrical Wiring): 70 -> 120 minutes\n",
      "T5 (Interior Installation): 90 -> 135 minutes\n",
      "T6 (Quality Control): 135 -> 165 minutes\n"
     ]
    }
   ],
   "source": [
    "def main():\n",
    "    solution = backtracking_search()\n",
    "    if solution:\n",
    "        for task, (start, end) in sorted(solution.items(), key=lambda x: x[1][0]):\n",
    "            description = tasks[task][2]\n",
    "            print(f\"{task} ({description}): {start} -> {end} minutes\")\n",
    "    else:\n",
    "        print(\"No valid schedule found.\")\n",
    "\n",
    "if __name__ == \"__main__\":\n",
    "    main()"
   ]
  }
 ],
 "metadata": {
  "kernelspec": {
   "display_name": "Python 3",
   "language": "python",
   "name": "python3"
  },
  "language_info": {
   "codemirror_mode": {
    "name": "ipython",
    "version": 3
   },
   "file_extension": ".py",
   "mimetype": "text/x-python",
   "name": "python",
   "nbconvert_exporter": "python",
   "pygments_lexer": "ipython3",
   "version": "3.8.3"
  }
 },
 "nbformat": 4,
 "nbformat_minor": 5
}
